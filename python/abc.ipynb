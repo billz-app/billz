{
 "cells": [
  {
   "cell_type": "markdown",
   "metadata": {},
   "source": []
  },
  {
   "cell_type": "code",
   "execution_count": 135,
   "metadata": {},
   "outputs": [
    {
     "name": "stdout",
     "output_type": "stream",
     "text": [
      "Date: 02/04/2024\n",
      "G PAY\n"
     ]
    }
   ],
   "source": [
    "import re\n",
    "\n",
    "text = \"\"\"\n",
    "EVER GREEN FOOD LAND\n",
    "\n",
    "VIT Campus, Vandalur-Kelambakkam Main Road Chennai-600 127\n",
    "\n",
    "G PAY BILL\n",
    "Bill No: 302 Date: 02/04/2024\n",
    "Cashier: Dan le Time: 10:07:AM\n",
    "Description Oty MRP Rate Amount\n",
    "DOUBLEMINT SG 2 10.00 10.00 20.00\n",
    "kurkure 1 10.00 10.00 10.00\n",
    "Net Amount 20.00\n",
    "\"\"\"\n",
    "type_of_payment = re.findall(r'\\b(CASH|G PAY)\\b', text)\n",
    "date_pattern = r\"Date: (\\d{2}/\\d{2}/\\d{4})\"\n",
    "match = re.search(date_pattern, text)\n",
    "if match:\n",
    "    date = match.group(1)\n",
    "    print(\"Date:\", date)\n",
    "# Print the matches\n",
    "for match in type_of_payment:\n",
    "    print(match)\n",
    "\n",
    "pattern = r'^(\\w+(?:\\s+\\w+)*)\\s+(\\d+)\\s+\\d+\\.\\d+\\s+\\d+\\.\\d+\\s+(\\d+\\.\\d+)$'\n",
    "\n",
    "matches = re.findall(pattern, text, re.MULTILINE)\n",
    "\n",
    "current=[[date,match]]\n",
    "for match in matches:\n",
    "    l=[]\n",
    "    description, qty, amount = match\n",
    "    #print(f\"Description: {description}, Amount: {amount}\")\n",
    "    l.append(description)\n",
    "    l.append(amount)\n",
    "    current.append(l)\n",
    "# Assuming current[0][0] contains the string with \"Description Qty MRP Rate Amount\\n\"\n",
    "current[1][0] = current[1][0].split(\"\\n\")[1]\n",
    "\n",
    "\n"
   ]
  },
  {
   "cell_type": "code",
   "execution_count": 136,
   "metadata": {},
   "outputs": [],
   "source": [
    "current\n",
    "items = [subarray[0] for subarray in current[1:]]"
   ]
  },
  {
   "cell_type": "code",
   "execution_count": 139,
   "metadata": {},
   "outputs": [
    {
     "name": "stdout",
     "output_type": "stream",
     "text": [
      "DOUBLEMINT SG belongs to Food and beverages\n",
      "kurkure belongs to Food and beverages\n"
     ]
    }
   ],
   "source": [
    "# Food and bev\n",
    "# stationery\n",
    "# toileteries \n",
    "# misc\n",
    "\n",
    "data = {\"Food and beverages\": [\"kurkure\", \n",
    "                                        \"lays\", \n",
    "                                        \"too yumm\", \n",
    "                                        \"bingo\", \n",
    "                                        \"uncle\", \n",
    "                                        \"sprite\", \n",
    "                                        \"coca cola\", \n",
    "                                        \"mountain dew\", \n",
    "                                        \"7up\", \n",
    "                                        \"cavin\",\n",
    "                                        \"sunfeast\",\n",
    "                                        \"parle\",\n",
    "                                        \"britannia\",\n",
    "                                        \"nestle\",\n",
    "                                        \"pepsi\",\n",
    "                                        \"real\",\n",
    "                                        \"mirinda\",\n",
    "                                        \"fanta\",\n",
    "                                        \"noodls\",\n",
    "                                        \"doublemint\"],\n",
    "                  \"Stationery\": [\"pen\",\n",
    "                                 \"unruled\",\n",
    "                                 \"ruled\"\n",
    "                                 \"noters\",\n",
    "                                 \"pencil\",\n",
    "                                 \"eraser\",\n",
    "                                 \"sharpner\",\n",
    "                                 \"scale\",\n",
    "                                 \"paper\",\n",
    "                                 \"rounder\",\n",
    "                                 \"box\",\n",
    "                                 \"pouch\"],\n",
    "                    \"Toileteries\": [\"soap\",\n",
    "                                    \"tissue\",\n",
    "                                    \"toothpaste\",\n",
    "                                    \"handwash\",\n",
    "                                    \"sanitizer\",\n",
    "                                    \"shampoo\",\n",
    "                                    \"brush\",\n",
    "                                    \"comb\",\n",
    "                                    \"oil\",\n",
    "                                    \"bucket\"],\n",
    "                   }\n",
    "\n",
    "\n",
    "\n",
    "items = [subarray[0] for subarray in current[1:]]\n",
    "cat=[]\n",
    "for item in items:\n",
    "    itemlist = item.split()\n",
    "    for i in itemlist:\n",
    "        for category, values in data.items():\n",
    "            if i.lower() in values:\n",
    "                print(f\"{item} belongs to {category}\")\n",
    "                cat.append(category)\n",
    "                 #Do whatever you wanna do here\n",
    "                break\n",
    "        else:\n",
    "            print(f\"{item} does not belong to any category\") #Do whatever you wanna do hered\n",
    "            break\n",
    "        break\n",
    "    #for category, values in data.items():\n"
   ]
  },
  {
   "cell_type": "code",
   "execution_count": 143,
   "metadata": {},
   "outputs": [],
   "source": [
    "for i in range (1,len(current)):\n",
    "    current[i].append(cat[i-1])\n"
   ]
  }
 ],
 "metadata": {
  "kernelspec": {
   "display_name": "Python 3",
   "language": "python",
   "name": "python3"
  },
  "language_info": {
   "codemirror_mode": {
    "name": "ipython",
    "version": 3
   },
   "file_extension": ".py",
   "mimetype": "text/x-python",
   "name": "python",
   "nbconvert_exporter": "python",
   "pygments_lexer": "ipython3",
   "version": "3.10.11"
  }
 },
 "nbformat": 4,
 "nbformat_minor": 2
}
